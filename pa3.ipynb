{
 "cells": [
  {
   "cell_type": "code",
   "execution_count": 1,
   "id": "optional-julian",
   "metadata": {},
   "outputs": [],
   "source": [
    "import math\n",
    "import statistics\n",
    "import numpy as np\n",
    "import pandas as pd\n",
    "import random\n",
    "import copy\n",
    "from scipy import stats"
   ]
  },
  {
   "cell_type": "code",
   "execution_count": 2,
   "id": "affiliated-clone",
   "metadata": {},
   "outputs": [],
   "source": [
    "testDataFile = open(\"pa3test.txt\")\n",
    "testlist = list(testDataFile)\n",
    "testMatrix = [e.split(\" \") for e in testlist]\n",
    "testMatrix = [[int(x) for x in i] for i in testMatrix]\n",
    "\n",
    "trainDataFile = open(\"pa3train.txt\")\n",
    "trainlist = list(trainDataFile)\n",
    "trainMatrix = [e.split(\" \") for e in trainlist]\n",
    "trainMatrix = [[float(x) for x in i] for i in trainMatrix]\n",
    "\n",
    "dictDataFile = open(\"pa3dictionary.txt\")\n",
    "dictionary = list(dictDataFile)\n",
    "dictionary = [x[:-2] for x in dictionary]"
   ]
  },
  {
   "cell_type": "code",
   "execution_count": 3,
   "id": "ruled-college",
   "metadata": {},
   "outputs": [],
   "source": [
    "testMatrixLabel12 = []\n",
    "trainMatrixLabel12 = []\n",
    "\n",
    "for dataPoint in testMatrix:\n",
    "    if dataPoint[819] == 1 or dataPoint[819] == 2:\n",
    "        testMatrixLabel12.append(dataPoint)\n",
    "for dataPoint in trainMatrix:\n",
    "    if dataPoint[819] == 1 or dataPoint[819] == 2:\n",
    "        trainMatrixLabel12.append(dataPoint)"
   ]
  },
  {
   "cell_type": "code",
   "execution_count": 4,
   "id": "therapeutic-minutes",
   "metadata": {},
   "outputs": [],
   "source": [
    "## label 1 is -1 and label 2 is 1\n",
    "def buildPerceptron(w):\n",
    "    for i in range(0, len(trainMatrixLabel12) - 1):\n",
    "        dotproduct = sum(a[0] * a[1] for a in zip(w[i], trainMatrixLabel12[i][:819]))\n",
    "        y = 1 if (trainMatrixLabel12[i][819] == 2) else -1\n",
    "        if (dotproduct * y) <= 0:\n",
    "            yx = [a * y for a in trainMatrixLabel12[i][:819]]\n",
    "            w[i+1] = [sum(x) for x in zip(w[i], yx)]\n",
    "        else:\n",
    "            w[i+1] = w[i]"
   ]
  },
  {
   "cell_type": "code",
   "execution_count": 5,
   "id": "restricted-domain",
   "metadata": {},
   "outputs": [],
   "source": [
    "def findPerceptronError(dataMatrix, resultW):\n",
    "    numWrong = 0;\n",
    "    numTotal = 0;\n",
    "    for i in dataMatrix:\n",
    "        dotproduct = sum(a[0] * a[1] for a in zip(resultW, i[:819]))\n",
    "        y = 1 if (i[819] == 2) else -1\n",
    "        if (dotproduct * y) <= 0:\n",
    "            numWrong += 1\n",
    "        numTotal += 1\n",
    "    return (numWrong/numTotal)"
   ]
  },
  {
   "cell_type": "code",
   "execution_count": 6,
   "id": "developmental-withdrawal",
   "metadata": {},
   "outputs": [],
   "source": [
    "zeroVec = [ [0] * 819 for _ in range(len(trainMatrixLabel12))]\n",
    "w = zeroVec"
   ]
  },
  {
   "cell_type": "code",
   "execution_count": 7,
   "id": "dimensional-translation",
   "metadata": {},
   "outputs": [
    {
     "name": "stdout",
     "output_type": "stream",
     "text": [
      "1-pass trainning error is: 0.04128440366972477\n",
      "1-pass testing   error is: 0.05305039787798409\n",
      "2-pass trainning error is: 0.04036697247706422\n",
      "2-pass testing   error is: 0.0610079575596817\n",
      "3-pass trainning error is: 0.02110091743119266\n",
      "3-pass testing   error is: 0.04509283819628647\n",
      "4-pass trainning error is: 0.01926605504587156\n",
      "4-pass testing   error is: 0.04774535809018567\n"
     ]
    }
   ],
   "source": [
    "##find error\n",
    "buildPerceptron(w)\n",
    "resultW = w[1089]\n",
    "print(\"1-pass trainning error is: \" + str(findPerceptronError(trainMatrixLabel12, resultW)))\n",
    "print(\"1-pass testing   error is: \" + str(findPerceptronError(testMatrixLabel12, resultW)))\n",
    "w = zeroVec\n",
    "w[0] = resultW\n",
    "buildPerceptron(w)\n",
    "resultW = w[1089]\n",
    "print(\"2-pass trainning error is: \" + str(findPerceptronError(trainMatrixLabel12, resultW)))\n",
    "print(\"2-pass testing   error is: \" + str(findPerceptronError(testMatrixLabel12, resultW)))\n",
    "w = zeroVec\n",
    "w[0] = resultW\n",
    "buildPerceptron(w)\n",
    "resultW = w[1089]\n",
    "print(\"3-pass trainning error is: \" + str(findPerceptronError(trainMatrixLabel12, resultW)))\n",
    "print(\"3-pass testing   error is: \" + str(findPerceptronError(testMatrixLabel12, resultW)))\n",
    "w = zeroVec\n",
    "w[0] = resultW\n",
    "buildPerceptron(w)\n",
    "resultW = w[1089]\n",
    "print(\"4-pass trainning error is: \" + str(findPerceptronError(trainMatrixLabel12, resultW)))\n",
    "print(\"4-pass testing   error is: \" + str(findPerceptronError(testMatrixLabel12, resultW)))"
   ]
  },
  {
   "cell_type": "code",
   "execution_count": 8,
   "id": "occupational-century",
   "metadata": {},
   "outputs": [],
   "source": [
    "def buildLogisticRegression(w, iteration):\n",
    "    for i in range(0, iteration-1):\n",
    "        summation = [0] * len(trainMatrixLabel12);\n",
    "        for n in range(0, len(trainMatrixLabel12)):\n",
    "            y = 1 if (trainMatrixLabel12[n][819] == 2) else -1\n",
    "            yx = [a * y for a in trainMatrixLabel12[n][:819]]\n",
    "            wx = sum(a[0] * a[1] for a in zip(w[i], trainMatrixLabel12[n][:819]))\n",
    "            ywx = y * wx\n",
    "            ##if overflown set element to 0\n",
    "            try:\n",
    "                element = [a / (1 + math.exp(ywx)) for a in yx]\n",
    "            except OverflowError:\n",
    "                element = [0 for a in yx]\n",
    "            summation = [sum(a) for a in zip(summation, element)]\n",
    "        stepped = [a * 0.001 for a in summation]\n",
    "        w[i+1] = [sum(a) for a in zip(w[i], stepped)]"
   ]
  },
  {
   "cell_type": "code",
   "execution_count": 9,
   "id": "brown-front",
   "metadata": {},
   "outputs": [
    {
     "name": "stdout",
     "output_type": "stream",
     "text": [
      "10-pass log regression trainning error: 0.44036697247706424\n",
      "10-pass log regression testing   error: 0.4562334217506631\n",
      "50-pass log regression trainning error: 0.04128440366972477\n",
      "50-pass log regression testing   error: 0.0610079575596817\n",
      "100-pas log regression trainning error: 0.02018348623853211\n",
      "100-pas log regression testing   error: 0.04509283819628647\n"
     ]
    }
   ],
   "source": [
    "iterations = 100\n",
    "wLog = [ [0] * 819 for _ in range(iterations)]\n",
    "buildLogisticRegression(wLog, iterations)\n",
    "print(\"10-pass log regression trainning error: \" + str(findPerceptronError(trainMatrixLabel12, wLog[9])))\n",
    "print(\"10-pass log regression testing   error: \" + str(findPerceptronError(testMatrixLabel12, wLog[9])))\n",
    "print(\"50-pass log regression trainning error: \" + str(findPerceptronError(trainMatrixLabel12, wLog[49])))\n",
    "print(\"50-pass log regression testing   error: \" + str(findPerceptronError(testMatrixLabel12, wLog[49])))\n",
    "print(\"100-pas log regression trainning error: \" + str(findPerceptronError(trainMatrixLabel12, wLog[99])))\n",
    "print(\"100-pas log regression testing   error: \" + str(findPerceptronError(testMatrixLabel12, wLog[99])))"
   ]
  },
  {
   "cell_type": "code",
   "execution_count": 10,
   "id": "humanitarian-scheduling",
   "metadata": {},
   "outputs": [
    {
     "name": "stdout",
     "output_type": "stream",
     "text": [
      "top three highest coordinates in perceptron are: he, team, game\n",
      "top three lowest coordinates in perceptron are: file, program, line\n",
      "top three highest coordinates in log reg are: he, game, they\n",
      "top three lowest coordinates in log reg are: window, file, use\n"
     ]
    }
   ],
   "source": [
    "#find 3 pass w\n",
    "w = zeroVec\n",
    "buildPerceptron(w)\n",
    "resultW = w[1089]\n",
    "w = zeroVec\n",
    "w[0] = resultW\n",
    "buildPerceptron(w)\n",
    "resultW = w[1089]\n",
    "w = zeroVec\n",
    "w[0] = resultW\n",
    "buildPerceptron(w)\n",
    "threePassW = w[1089]\n",
    "\n",
    "big1 = threePassW.index(max(threePassW))\n",
    "threePassW[big1] = 0\n",
    "big2 = threePassW.index(max(threePassW))\n",
    "threePassW[big2] = 0\n",
    "big3 = threePassW.index(max(threePassW))\n",
    "\n",
    "print(\"top three highest coordinates in perceptron are: \" + dictionary[big1] + \", \" + dictionary[big2] + \", \" + dictionary[big3])\n",
    "\n",
    "smol1 = threePassW.index(min(threePassW))\n",
    "threePassW[smol1] = 0\n",
    "smol2 = threePassW.index(min(threePassW))\n",
    "threePassW[smol2] = 0\n",
    "smol3 = threePassW.index(min(threePassW))\n",
    "\n",
    "print(\"top three lowest coordinates in perceptron are: \" + dictionary[smol1] + \", \" + dictionary[smol2] + \", \" + dictionary[smol3])\n",
    "\n",
    "big1 = wLog[49].index(max(wLog[49]))\n",
    "wLog[49][big1] = 0\n",
    "big2 = wLog[49].index(max(wLog[49]))\n",
    "wLog[49][big2] = 0\n",
    "big3 = wLog[49].index(max(wLog[49]))\n",
    "\n",
    "print(\"top three highest coordinates in log reg are: \" + dictionary[big1] + \", \" + dictionary[big2] + \", \" + dictionary[big3])\n",
    "\n",
    "smol1 = wLog[49].index(min(wLog[49]))\n",
    "wLog[49][smol1] = 0\n",
    "smol2 = wLog[49].index(min(wLog[49]))\n",
    "wLog[49][smol2] = 0\n",
    "smol3 = wLog[49].index(min(wLog[49]))\n",
    "\n",
    "print(\"top three lowest coordinates in log reg are: \" + dictionary[smol1] + \", \" + dictionary[smol2] + \", \" + dictionary[smol3])"
   ]
  },
  {
   "cell_type": "code",
   "execution_count": 11,
   "id": "multiple-blanket",
   "metadata": {},
   "outputs": [],
   "source": [
    "## label else is -1 and label label is 1\n",
    "def buildOneVSAll(label):\n",
    "    w = [ [0] * 819 for _ in range(len(trainMatrix))]\n",
    "    for i in range(0, len(trainMatrix) - 1):\n",
    "        dotproduct = sum(a[0] * a[1] for a in zip(w[i], trainMatrix[i][:819]))\n",
    "        y = 1 if (trainMatrix[i][819] == label) else -1\n",
    "        if (dotproduct * y) <= 0:\n",
    "            yx = [a * y for a in trainMatrix[i][:819]]\n",
    "            w[i+1] = [sum(x) for x in zip(w[i], yx)]\n",
    "        else:\n",
    "            w[i+1] = w[i]\n",
    "    return w[len(trainMatrix) - 1]"
   ]
  },
  {
   "cell_type": "code",
   "execution_count": 12,
   "id": "chinese-hanging",
   "metadata": {},
   "outputs": [],
   "source": [
    "Classifier = [ [0] * 819 for _ in range(6)]\n",
    "for i in range(1, 7):\n",
    "    Classifier[i - 1] =  buildOneVSAll(i)"
   ]
  },
  {
   "cell_type": "code",
   "execution_count": 13,
   "id": "rough-compound",
   "metadata": {},
   "outputs": [],
   "source": [
    "#return label for the label predicted, -1 for dont know\n",
    "def predict(dataPoint):\n",
    "    # 1 for this label, -1 for other label\n",
    "    predictions = []\n",
    "    unique = 0\n",
    "    otherNum = 0\n",
    "    for i in range(0, len(Classifier)):\n",
    "        dotproduct = sum(a[0] * a[1] for a in zip(Classifier[i], dataPoint))\n",
    "        if dotproduct >= 0:\n",
    "            predictions.append(1)\n",
    "        else:\n",
    "            predictions.append(-1)\n",
    "    for j in range(0, len(predictions)):\n",
    "        if predictions[j] == 1:\n",
    "            if unique == 1:\n",
    "                return -1\n",
    "            else:\n",
    "                uniqueInd = j\n",
    "                unique = 1\n",
    "        else:\n",
    "            otherNum += 1\n",
    "            if otherNum == 6:\n",
    "                return -1\n",
    "    return uniqueInd + 1"
   ]
  },
  {
   "cell_type": "code",
   "execution_count": 14,
   "id": "nuclear-suspect",
   "metadata": {},
   "outputs": [],
   "source": [
    "def findNumLabel(labelNumList):\n",
    "    for i in range(1, 7):\n",
    "        for dp in testMatrix:\n",
    "            if dp[819] == i:\n",
    "                labelNumList[i-1] += 1\n",
    "\n",
    "labelNumList = [0]*6\n",
    "findNumLabel(labelNumList)"
   ]
  },
  {
   "cell_type": "code",
   "execution_count": 15,
   "id": "north-mystery",
   "metadata": {},
   "outputs": [],
   "source": [
    "def buildConfusion(confusionMatrix):\n",
    "    predictionList = []\n",
    "    for dataPoint in testMatrix:\n",
    "        predictionList.append(predict(dataPoint))\n",
    "    \n",
    "    for i in range(0,6):\n",
    "        for j in range(0,6):\n",
    "            count = 0\n",
    "            for k in range(0, len(predictionList)):\n",
    "                if (predictionList[k] == (i+1) and testMatrix[k][819] == (j+1)):\n",
    "                    count += 1\n",
    "            confusionMatrix[i][j] = count / labelNumList[j]\n",
    "    for j in range(0,6):\n",
    "        count = 0\n",
    "        for k in range(0, len(predictionList)):\n",
    "            if (predictionList[k] == -1 and testMatrix[k][819] == (j+1)):\n",
    "                count += 1\n",
    "        confusionMatrix[6][j] = count / labelNumList[j]"
   ]
  },
  {
   "cell_type": "code",
   "execution_count": 16,
   "id": "educated-basketball",
   "metadata": {},
   "outputs": [],
   "source": [
    "confusionMatrix = [ [0] * 6 for _ in range(7)]\n",
    "buildConfusion(confusionMatrix)"
   ]
  },
  {
   "cell_type": "code",
   "execution_count": 17,
   "id": "serious-sequence",
   "metadata": {},
   "outputs": [
    {
     "name": "stdout",
     "output_type": "stream",
     "text": [
      "          0         1         2         3         4         5\n",
      "0  0.702703  0.010417  0.028571  0.021739  0.000000  0.000000\n",
      "1  0.037838  0.677083  0.045714  0.032609  0.025641  0.037037\n",
      "2  0.000000  0.015625  0.337143  0.000000  0.000000  0.000000\n",
      "3  0.010811  0.005208  0.000000  0.646739  0.000000  0.000000\n",
      "4  0.016216  0.015625  0.040000  0.005435  0.724359  0.111111\n",
      "5  0.010811  0.015625  0.034286  0.000000  0.076923  0.574074\n",
      "6  0.221622  0.260417  0.514286  0.293478  0.173077  0.277778\n"
     ]
    }
   ],
   "source": [
    "print(pd.DataFrame(confusionMatrix))"
   ]
  },
  {
   "cell_type": "markdown",
   "id": "adapted-mainland",
   "metadata": {},
   "source": [
    "## The perceptron classifier has the highest accuracy for class 5, since the matrix[4][4] entry is highest.\n",
    "## The perceptron classifier has the least accuracy for class 3, since the matrix[2][2] entry is lowest.\n",
    "## The perceptron classifier most often mistakenly classifies an example in class 6 as belonging to class 5, since the highest non-diagonal entry is [4][5]."
   ]
  }
 ],
 "metadata": {
  "kernelspec": {
   "display_name": "Python 3",
   "language": "python",
   "name": "python3"
  },
  "language_info": {
   "codemirror_mode": {
    "name": "ipython",
    "version": 3
   },
   "file_extension": ".py",
   "mimetype": "text/x-python",
   "name": "python",
   "nbconvert_exporter": "python",
   "pygments_lexer": "ipython3",
   "version": "3.9.0"
  }
 },
 "nbformat": 4,
 "nbformat_minor": 5
}
